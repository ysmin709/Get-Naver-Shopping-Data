{
 "cells": [
  {
   "cell_type": "code",
   "execution_count": 1,
   "metadata": {},
   "outputs": [],
   "source": [
    "import pandas as pd\n",
    "import sys"
   ]
  },
  {
   "cell_type": "code",
   "execution_count": 2,
   "metadata": {},
   "outputs": [],
   "source": [
    "# xls to xlsx\n",
    "import win32com.client as win32"
   ]
  },
  {
   "cell_type": "code",
   "execution_count": 46,
   "metadata": {
    "scrolled": false
   },
   "outputs": [
    {
     "name": "stdout",
     "output_type": "stream",
     "text": [
      "(<class 'pywintypes.com_error'>, com_error(-2147352567, '예외가 발생했습니다.', (0, 'Microsoft Excel', \"'C:\\\\Users\\\\YSM\\\\Downloads\\\\배추 2020년 6월 5주.xls'을(를) 찾을 수 없습니다. 파일의 이름이 변경되었거나 파일이 이동 또는 삭제되지 않았는지 확인하세요.\", 'xlmain11.chm', 0, -2146827284), None), <traceback object at 0x00000171FFC2AF08>)\n",
      "Month Over!\n",
      "(<class 'pywintypes.com_error'>, com_error(-2147352567, '예외가 발생했습니다.', (0, 'Microsoft Excel', \"'C:\\\\Users\\\\YSM\\\\Downloads\\\\배추 2020년 7월 6주.xls'을(를) 찾을 수 없습니다. 파일의 이름이 변경되었거나 파일이 이동 또는 삭제되지 않았는지 확인하세요.\", 'xlmain11.chm', 0, -2146827284), None), <traceback object at 0x00000171FFBF5A88>)\n",
      "Month Over!\n",
      "(<class 'pywintypes.com_error'>, com_error(-2147352567, '예외가 발생했습니다.', (0, 'Microsoft Excel', \"'C:\\\\Users\\\\YSM\\\\Downloads\\\\배추 2020년 8월 5주.xls'을(를) 찾을 수 없습니다. 파일의 이름이 변경되었거나 파일이 이동 또는 삭제되지 않았는지 확인하세요.\", 'xlmain11.chm', 0, -2146827284), None), <traceback object at 0x00000171FFC6EE48>)\n",
      "Month Over!\n",
      "(<class 'pywintypes.com_error'>, com_error(-2147352567, '예외가 발생했습니다.', (0, 'Microsoft Excel', \"'C:\\\\Users\\\\YSM\\\\Downloads\\\\배추 2020년 9월 5주.xls'을(를) 찾을 수 없습니다. 파일의 이름이 변경되었거나 파일이 이동 또는 삭제되지 않았는지 확인하세요.\", 'xlmain11.chm', 0, -2146827284), None), <traceback object at 0x00000171D4671E48>)\n",
      "Month Over!\n",
      "(<class 'pywintypes.com_error'>, com_error(-2147352567, '예외가 발생했습니다.', (0, 'Microsoft Excel', \"'C:\\\\Users\\\\YSM\\\\Downloads\\\\배추 2020년 10월 6주.xls'을(를) 찾을 수 없습니다. 파일의 이름이 변경되었거나 파일이 이동 또는 삭제되지 않았는지 확인하세요.\", 'xlmain11.chm', 0, -2146827284), None), <traceback object at 0x00000171FFD82588>)\n",
      "Month Over!\n"
     ]
    }
   ],
   "source": [
    "year = 2020\n",
    "month = 6\n",
    "weeks = 1\n",
    "vegetable_name = '배추'\n",
    "cnt = 0\n",
    "\n",
    "while month >= 6 and month <= 10:\n",
    "    globals()['Jeju_{}_{}'.format(month, year)] = []\n",
    "    globals()['Seoul_{}_{}'.format(month, year)] = []\n",
    "    globals()['Daejeon_{}_{}'.format(month, year)] = []\n",
    "    globals()['Jeonju_{}_{}'.format(month, year)] = []\n",
    "    \n",
    "    try:\n",
    "        while True:\n",
    "            fname = \"C:\\\\Users\\\\YSM\\\\Downloads\\\\{} {}년 {}월 {}주.xls\".format(vegetable_name, year, month, weeks)\n",
    "            excel = win32.gencache.EnsureDispatch('Excel.Application')\n",
    "            wb = excel.Workbooks.Open(fname)\n",
    "\n",
    "            wb.SaveAs(fname+\"x\", FileFormat = 51)\n",
    "            wb.Close()\n",
    "            excel.Application.Quit()\n",
    "            df = pd.read_excel('C:\\\\Users\\\\YSM\\\\Downloads\\\\{} {}년 {}월 {}주.xlsx'.format(vegetable_name, year, month, weeks))\n",
    "\n",
    "            weeks += 1\n",
    "\n",
    "            length = len(df.iloc[-1]) - 6\n",
    "\n",
    "            # Seoul\n",
    "            Seoul_price_list = []\n",
    "            Seoul_idx = df[df['구분'] == '서울'].index\n",
    "            Busan_idx = df[df['구분'] == '부산'].index\n",
    "            Seoul_df = df.iloc[Seoul_idx.tolist()[0]:Busan_idx.tolist()[0]]\n",
    "            Seoul_price = 0\n",
    "            temp = Seoul_df[Seoul_df['Unnamed: 1'] == '경동'].index.tolist()[0]\n",
    "            \n",
    "            for i in range(length):\n",
    "                x = Seoul_df.iloc[0][3:9][i].replace(',', '')\n",
    "                if x == '-':\n",
    "                    x = 0\n",
    "                    cnt += 1\n",
    "                    print(month, weeks)\n",
    "                Seoul_price_list.append(int(x))\n",
    "                \n",
    "            Seoul_avg = sum(Seoul_price_list) / length - cnt\n",
    "            globals()['Seoul_{}_{}'.format(month, year)].append(round(Seoul_avg, 2))\n",
    "            cnt = 0\n",
    "\n",
    "            # Daejeon\n",
    "            Daejeon_price_list = []\n",
    "            Daejeon_idx = df[df['구분'] == '대전'].index\n",
    "            Ulsan_idx = df[df['구분'] == '울산'].index\n",
    "            Daejeon_df = df.iloc[Daejeon_idx.tolist()[0]:Ulsan_idx.tolist()[0]]\n",
    "            Daejeon_price = 0\n",
    "            temp = Daejeon_df[Daejeon_df['Unnamed: 1'] == '역전'].index.tolist()[0]\n",
    "            \n",
    "            for i in range(length):\n",
    "                x = Daejeon_df.iloc[0][3:9][i].replace(',', '')\n",
    "                if x == '-':\n",
    "                    x = 0\n",
    "                    cnt += 1\n",
    "                Daejeon_price_list.append(int(x))\n",
    "                \n",
    "            Daejeon_avg = sum(Daejeon_price_list) / length - cnt\n",
    "            globals()['Daejeon_{}_{}'.format(month, year)].append(round(Daejeon_avg, 2))\n",
    "            cnt = 0\n",
    "\n",
    "            # Jeonju\n",
    "            Jeonju_price_list = []\n",
    "            Jeonju_idx = df[df['구분'] == '전주'].index\n",
    "            Suncheon_idx = df[df['구분'] == '순천'].index\n",
    "            Jeonju_df = df.iloc[Jeonju_idx.tolist()[0]:Suncheon_idx.tolist()[0]]\n",
    "            Jeonju_price = 0\n",
    "            temp = Jeonju_df[Jeonju_df['Unnamed: 1'] == '남부'].index.tolist()[0]\n",
    "            for i in range(length):\n",
    "                x = Jeonju_df.iloc[0][3:9][i].replace(',', '')\n",
    "                if x == '-':\n",
    "                    x = 0\n",
    "                    cnt += 1\n",
    "                Jeonju_price_list.append(int(x))\n",
    "            Jeonju_avg = sum(Jeonju_price_list) / length - cnt\n",
    "            globals()['Jeonju_{}_{}'.format(month, year)].append(round(Jeonju_avg, 2))\n",
    "            cnt = 0\n",
    "\n",
    "            # Jeju\n",
    "            Jeju_price_list = []\n",
    "            Jeju_idx = df[df['구분'] == '제주'].index\n",
    "            Jeju_df = df.iloc[Jeju_idx.tolist()[0]:]\n",
    "            Jeju_price = 0\n",
    "            temp = Jeju_df[Jeju_df['Unnamed: 1'] == '동문'].index.tolist()[0]\n",
    "            for i in range(length):\n",
    "                x = Jeju_df.iloc[0][3:9][i].replace(',', '')\n",
    "                if x == '-':\n",
    "                    x = 0\n",
    "                    cnt += 1\n",
    "                Jeju_price_list.append(int(x))\n",
    "            Jeju_avg = sum(Jeju_price_list) / length - cnt\n",
    "            globals()['Jeju_{}_{}'.format(month, year)].append(round(Jeju_avg, 2))\n",
    "            cnt = 0\n",
    "\n",
    "    except:\n",
    "#         print(sys.exc_info())\n",
    "        print(\"Month Over!\")\n",
    "        month += 1\n",
    "        weeks = 1"
   ]
  },
  {
   "cell_type": "code",
   "execution_count": 85,
   "metadata": {},
   "outputs": [],
   "source": [
    "Jeju_result = []\n",
    "Seoul_result = []\n",
    "Daejeon_result = []\n",
    "Jeonju_result = []"
   ]
  },
  {
   "cell_type": "code",
   "execution_count": 84,
   "metadata": {},
   "outputs": [
    {
     "name": "stdout",
     "output_type": "stream",
     "text": [
      "[6330.0, 6330.0, 6330.0, 5274.0, 3998.0]\n"
     ]
    }
   ],
   "source": [
    "# ----------------------------- Jeju ---------------------------------- #\n",
    "print(Jeju_7_2020)\n",
    "try:\n",
    "    for i in range(4, -1, -1):\n",
    "        Jeju_result.append(Jeju_10_2020[i])\n",
    "except:\n",
    "    for i in range(4):\n",
    "        Jeju_result.append(Jeju_10_2020[i])"
   ]
  },
  {
   "cell_type": "code",
   "execution_count": 54,
   "metadata": {
    "scrolled": false
   },
   "outputs": [
    {
     "data": {
      "text/plain": [
       "[4218.0,\n",
       " 6330.0,\n",
       " 6330.0,\n",
       " 6330.0,\n",
       " 3998.0,\n",
       " 5274.0,\n",
       " 6330.0,\n",
       " 6330.0,\n",
       " 6330.0,\n",
       " 6000.0,\n",
       " 6443.33,\n",
       " 7330.0,\n",
       " 8443.33,\n",
       " 9220.0,\n",
       " 9696.67,\n",
       " 11656.67,\n",
       " 12933.33,\n",
       " 7830.0,\n",
       " 10206.67,\n",
       " 13600.0,\n",
       " 13600.0,\n",
       " 13600.0]"
      ]
     },
     "execution_count": 54,
     "metadata": {},
     "output_type": "execute_result"
    }
   ],
   "source": [
    "Jeju_result"
   ]
  },
  {
   "cell_type": "code",
   "execution_count": 59,
   "metadata": {},
   "outputs": [],
   "source": [
    "# ----------------------------- Seoul ---------------------------------- #\n",
    "month_price = 0\n",
    "try:\n",
    "    for i in range(4, -1, -1):\n",
    "        Seoul_result.append(Seoul_10_2020[i])\n",
    "except:\n",
    "    for i in range(4):\n",
    "        Seoul_result.append(Seoul_10_2020[i])"
   ]
  },
  {
   "cell_type": "code",
   "execution_count": 60,
   "metadata": {},
   "outputs": [
    {
     "data": {
      "text/plain": [
       "[4968.33,\n",
       " 4551.67,\n",
       " 4998.33,\n",
       " 5110.0,\n",
       " 6940.0,\n",
       " 2439.33,\n",
       " 3549.67,\n",
       " 4660.0,\n",
       " 4858.33,\n",
       " 7328.33,\n",
       " 8106.67,\n",
       " 9388.0,\n",
       " 11550.0,\n",
       " 11216.67,\n",
       " 11816.67,\n",
       " 13066.67,\n",
       " 14300.0,\n",
       " 4746.67,\n",
       " 5941.67,\n",
       " 8260.0,\n",
       " 13300.0,\n",
       " 14300.0]"
      ]
     },
     "execution_count": 60,
     "metadata": {},
     "output_type": "execute_result"
    }
   ],
   "source": [
    "Seoul_result"
   ]
  },
  {
   "cell_type": "code",
   "execution_count": 65,
   "metadata": {},
   "outputs": [],
   "source": [
    "# ----------------------------- Daejeon ---------------------------------- #\n",
    "month_price = 0\n",
    "try:\n",
    "    for i in range(4, -1, -1):\n",
    "        Daejeon_result.append(Daejeon_10_2020[i])\n",
    "except:\n",
    "    for i in range(4):\n",
    "        Daejeon_result.append(Daejeon_10_2020[i])"
   ]
  },
  {
   "cell_type": "code",
   "execution_count": 66,
   "metadata": {},
   "outputs": [
    {
     "data": {
      "text/plain": [
       "[4416.67,\n",
       " 3416.67,\n",
       " 3833.33,\n",
       " 4166.67,\n",
       " 6000.0,\n",
       " 4832.33,\n",
       " 5250.0,\n",
       " 4500.0,\n",
       " 4500.0,\n",
       " 6500.0,\n",
       " 7583.33,\n",
       " 8300.0,\n",
       " 9250.0,\n",
       " 9333.33,\n",
       " 9833.33,\n",
       " 11416.67,\n",
       " 11416.67,\n",
       " 2747.0,\n",
       " 5833.33,\n",
       " 7600.0,\n",
       " 10250.0,\n",
       " 11833.33]"
      ]
     },
     "execution_count": 66,
     "metadata": {},
     "output_type": "execute_result"
    }
   ],
   "source": [
    "Daejeon_result"
   ]
  },
  {
   "cell_type": "code",
   "execution_count": 72,
   "metadata": {},
   "outputs": [],
   "source": [
    "# ----------------------------- Jeonju ---------------------------------- #\n",
    "month_price = 0\n",
    "try:\n",
    "    for i in range(4, -1, -1):\n",
    "        Jeonju_result.append(Jeonju_10_2020[i])\n",
    "except:\n",
    "    for i in range(4):\n",
    "        Jeonju_result.append(Jeonju_10_2020[i])"
   ]
  },
  {
   "cell_type": "code",
   "execution_count": 73,
   "metadata": {},
   "outputs": [
    {
     "data": {
      "text/plain": [
       "[4526.67,\n",
       " 4000.0,\n",
       " 4000.0,\n",
       " 4055.0,\n",
       " 4440.67,\n",
       " 3970.67,\n",
       " 4333.33,\n",
       " 4000.0,\n",
       " 4110.0,\n",
       " 5550.0,\n",
       " 6610.0,\n",
       " 7264.0,\n",
       " 8385.0,\n",
       " 8996.67,\n",
       " 8938.33,\n",
       " 9830.0,\n",
       " 10866.67,\n",
       " 828.33,\n",
       " 5333.33,\n",
       " 7400.0,\n",
       " 10400.0,\n",
       " 11500.0]"
      ]
     },
     "execution_count": 73,
     "metadata": {},
     "output_type": "execute_result"
    }
   ],
   "source": [
    "Jeonju_result"
   ]
  },
  {
   "cell_type": "code",
   "execution_count": 74,
   "metadata": {},
   "outputs": [
    {
     "data": {
      "text/html": [
       "<div>\n",
       "<style scoped>\n",
       "    .dataframe tbody tr th:only-of-type {\n",
       "        vertical-align: middle;\n",
       "    }\n",
       "\n",
       "    .dataframe tbody tr th {\n",
       "        vertical-align: top;\n",
       "    }\n",
       "\n",
       "    .dataframe thead th {\n",
       "        text-align: right;\n",
       "    }\n",
       "</style>\n",
       "<table border=\"1\" class=\"dataframe\">\n",
       "  <thead>\n",
       "    <tr style=\"text-align: right;\">\n",
       "      <th></th>\n",
       "      <th>Jeju</th>\n",
       "      <th>Seoul</th>\n",
       "      <th>Daejeon</th>\n",
       "      <th>Jeonju</th>\n",
       "    </tr>\n",
       "  </thead>\n",
       "  <tbody>\n",
       "    <tr>\n",
       "      <th>0</th>\n",
       "      <td>4218.00</td>\n",
       "      <td>4968.33</td>\n",
       "      <td>4416.67</td>\n",
       "      <td>4526.67</td>\n",
       "    </tr>\n",
       "    <tr>\n",
       "      <th>1</th>\n",
       "      <td>6330.00</td>\n",
       "      <td>4551.67</td>\n",
       "      <td>3416.67</td>\n",
       "      <td>4000.00</td>\n",
       "    </tr>\n",
       "    <tr>\n",
       "      <th>2</th>\n",
       "      <td>6330.00</td>\n",
       "      <td>4998.33</td>\n",
       "      <td>3833.33</td>\n",
       "      <td>4000.00</td>\n",
       "    </tr>\n",
       "    <tr>\n",
       "      <th>3</th>\n",
       "      <td>6330.00</td>\n",
       "      <td>5110.00</td>\n",
       "      <td>4166.67</td>\n",
       "      <td>4055.00</td>\n",
       "    </tr>\n",
       "    <tr>\n",
       "      <th>4</th>\n",
       "      <td>3998.00</td>\n",
       "      <td>6940.00</td>\n",
       "      <td>6000.00</td>\n",
       "      <td>4440.67</td>\n",
       "    </tr>\n",
       "    <tr>\n",
       "      <th>5</th>\n",
       "      <td>5274.00</td>\n",
       "      <td>2439.33</td>\n",
       "      <td>4832.33</td>\n",
       "      <td>3970.67</td>\n",
       "    </tr>\n",
       "    <tr>\n",
       "      <th>6</th>\n",
       "      <td>6330.00</td>\n",
       "      <td>3549.67</td>\n",
       "      <td>5250.00</td>\n",
       "      <td>4333.33</td>\n",
       "    </tr>\n",
       "    <tr>\n",
       "      <th>7</th>\n",
       "      <td>6330.00</td>\n",
       "      <td>4660.00</td>\n",
       "      <td>4500.00</td>\n",
       "      <td>4000.00</td>\n",
       "    </tr>\n",
       "    <tr>\n",
       "      <th>8</th>\n",
       "      <td>6330.00</td>\n",
       "      <td>4858.33</td>\n",
       "      <td>4500.00</td>\n",
       "      <td>4110.00</td>\n",
       "    </tr>\n",
       "    <tr>\n",
       "      <th>9</th>\n",
       "      <td>6000.00</td>\n",
       "      <td>7328.33</td>\n",
       "      <td>6500.00</td>\n",
       "      <td>5550.00</td>\n",
       "    </tr>\n",
       "    <tr>\n",
       "      <th>10</th>\n",
       "      <td>6443.33</td>\n",
       "      <td>8106.67</td>\n",
       "      <td>7583.33</td>\n",
       "      <td>6610.00</td>\n",
       "    </tr>\n",
       "    <tr>\n",
       "      <th>11</th>\n",
       "      <td>7330.00</td>\n",
       "      <td>9388.00</td>\n",
       "      <td>8300.00</td>\n",
       "      <td>7264.00</td>\n",
       "    </tr>\n",
       "    <tr>\n",
       "      <th>12</th>\n",
       "      <td>8443.33</td>\n",
       "      <td>11550.00</td>\n",
       "      <td>9250.00</td>\n",
       "      <td>8385.00</td>\n",
       "    </tr>\n",
       "    <tr>\n",
       "      <th>13</th>\n",
       "      <td>9220.00</td>\n",
       "      <td>11216.67</td>\n",
       "      <td>9333.33</td>\n",
       "      <td>8996.67</td>\n",
       "    </tr>\n",
       "    <tr>\n",
       "      <th>14</th>\n",
       "      <td>9696.67</td>\n",
       "      <td>11816.67</td>\n",
       "      <td>9833.33</td>\n",
       "      <td>8938.33</td>\n",
       "    </tr>\n",
       "    <tr>\n",
       "      <th>15</th>\n",
       "      <td>11656.67</td>\n",
       "      <td>13066.67</td>\n",
       "      <td>11416.67</td>\n",
       "      <td>9830.00</td>\n",
       "    </tr>\n",
       "    <tr>\n",
       "      <th>16</th>\n",
       "      <td>12933.33</td>\n",
       "      <td>14300.00</td>\n",
       "      <td>11416.67</td>\n",
       "      <td>10866.67</td>\n",
       "    </tr>\n",
       "    <tr>\n",
       "      <th>17</th>\n",
       "      <td>7830.00</td>\n",
       "      <td>4746.67</td>\n",
       "      <td>2747.00</td>\n",
       "      <td>828.33</td>\n",
       "    </tr>\n",
       "    <tr>\n",
       "      <th>18</th>\n",
       "      <td>10206.67</td>\n",
       "      <td>5941.67</td>\n",
       "      <td>5833.33</td>\n",
       "      <td>5333.33</td>\n",
       "    </tr>\n",
       "    <tr>\n",
       "      <th>19</th>\n",
       "      <td>13600.00</td>\n",
       "      <td>8260.00</td>\n",
       "      <td>7600.00</td>\n",
       "      <td>7400.00</td>\n",
       "    </tr>\n",
       "    <tr>\n",
       "      <th>20</th>\n",
       "      <td>13600.00</td>\n",
       "      <td>13300.00</td>\n",
       "      <td>10250.00</td>\n",
       "      <td>10400.00</td>\n",
       "    </tr>\n",
       "    <tr>\n",
       "      <th>21</th>\n",
       "      <td>13600.00</td>\n",
       "      <td>14300.00</td>\n",
       "      <td>11833.33</td>\n",
       "      <td>11500.00</td>\n",
       "    </tr>\n",
       "  </tbody>\n",
       "</table>\n",
       "</div>"
      ],
      "text/plain": [
       "        Jeju     Seoul   Daejeon    Jeonju\n",
       "0    4218.00   4968.33   4416.67   4526.67\n",
       "1    6330.00   4551.67   3416.67   4000.00\n",
       "2    6330.00   4998.33   3833.33   4000.00\n",
       "3    6330.00   5110.00   4166.67   4055.00\n",
       "4    3998.00   6940.00   6000.00   4440.67\n",
       "5    5274.00   2439.33   4832.33   3970.67\n",
       "6    6330.00   3549.67   5250.00   4333.33\n",
       "7    6330.00   4660.00   4500.00   4000.00\n",
       "8    6330.00   4858.33   4500.00   4110.00\n",
       "9    6000.00   7328.33   6500.00   5550.00\n",
       "10   6443.33   8106.67   7583.33   6610.00\n",
       "11   7330.00   9388.00   8300.00   7264.00\n",
       "12   8443.33  11550.00   9250.00   8385.00\n",
       "13   9220.00  11216.67   9333.33   8996.67\n",
       "14   9696.67  11816.67   9833.33   8938.33\n",
       "15  11656.67  13066.67  11416.67   9830.00\n",
       "16  12933.33  14300.00  11416.67  10866.67\n",
       "17   7830.00   4746.67   2747.00    828.33\n",
       "18  10206.67   5941.67   5833.33   5333.33\n",
       "19  13600.00   8260.00   7600.00   7400.00\n",
       "20  13600.00  13300.00  10250.00  10400.00\n",
       "21  13600.00  14300.00  11833.33  11500.00"
      ]
     },
     "execution_count": 74,
     "metadata": {},
     "output_type": "execute_result"
    }
   ],
   "source": [
    "df_20 = pd.DataFrame([Jeju_result, Seoul_result, Daejeon_result, Jeonju_result], index='Jeju Seoul Daejeon Jeonju'.split())\n",
    "df_2020 = df_20.fillna(df.iloc[1])\n",
    "df_2020 = df_2020.T\n",
    "df_2020"
   ]
  },
  {
   "cell_type": "code",
   "execution_count": 79,
   "metadata": {},
   "outputs": [],
   "source": [
    "%matplotlib inline\n",
    "import matplotlib.pyplot as plt\n",
    "import matplotlib.font_manager as fm\n",
    "\n",
    "month_week_list = ['6/1', '6/2', '6/3', '6/4', '7/1', '7/2', '7/3', '7/4', '7/5', '8/1', '8/2', '8/3', '8/4', '9/1', '9/2', '9/3', '9/4', '10/1', '10/2', '10/3', '10/4', '10/5']\n",
    "\n",
    "plt.rcParams[\"axes.grid\"] = True\n",
    "plt.rcParams[\"figure.figsize\"] = (15,4)"
   ]
  },
  {
   "cell_type": "code",
   "execution_count": 81,
   "metadata": {},
   "outputs": [
    {
     "data": {
      "image/png": "[encoded data removed]",
      "text/plain": [
       "<Figure size 1080x288 with 1 Axes>"
      ]
     },
     "metadata": {
      "needs_background": "light"
     },
     "output_type": "display_data"
    }
   ],
   "source": [
    "line = df_2020.plot.line()\n",
    "line.set_xlabel(\"Month\")\n",
    "line.set_ylabel(\"Price\")\n",
    "plt.ylim([0, 15000])\n",
    "line.set_title(\"2020 Price Variant\")\n",
    "line.set_xticks(df_2020.index[:])\n",
    "line.set_xticklabels(month_week_list)\n",
    "plt.plot\n",
    "plt.show()"
   ]
  },
  {
   "cell_type": "code",
   "execution_count": null,
   "metadata": {},
   "outputs": [],
   "source": []
  }
 ],
 "metadata": {
  "kernelspec": {
   "display_name": "Python 3",
   "language": "python",
   "name": "python3"
  },
  "language_info": {
   "codemirror_mode": {
    "name": "ipython",
    "version": 3
   },
   "file_extension": ".py",
   "mimetype": "text/x-python",
   "name": "python",
   "nbconvert_exporter": "python",
   "pygments_lexer": "ipython3",
   "version": "3.7.0"
  }
 },
 "nbformat": 4,
 "nbformat_minor": 4
}
