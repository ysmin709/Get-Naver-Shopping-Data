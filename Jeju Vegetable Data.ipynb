{
 "cells": [
  {
   "cell_type": "code",
   "execution_count": 15,
   "metadata": {},
   "outputs": [],
   "source": [
    "import pandas as pd\n",
    "import sys"
   ]
  },
  {
   "cell_type": "code",
   "execution_count": 2,
   "metadata": {},
   "outputs": [],
   "source": [
    "# xls to xlsx\n",
    "import win32com.client as win32"
   ]
  },
  {
   "cell_type": "code",
   "execution_count": 39,
   "metadata": {
    "scrolled": false
   },
   "outputs": [
    {
     "name": "stdout",
     "output_type": "stream",
     "text": [
      "6 1\n",
      "6 2\n",
      "6 3\n",
      "6 4\n",
      "Month Over!\n",
      "7 1\n",
      "7 2\n",
      "7 3\n",
      "7 4\n",
      "Month Over!\n",
      "8 1\n",
      "8 2\n",
      "8 3\n",
      "8 4\n",
      "8 5\n",
      "Month Over!\n"
     ]
    }
   ],
   "source": [
    "year = 2020\n",
    "month = 6\n",
    "weeks = 1\n",
    "\n",
    "while month >= 6 and month <= 8:\n",
    "    globals()['Jeju_{}_{}'.format(month, year)] = []\n",
    "    globals()['Seoul_{}_{}'.format(month, year)] = []\n",
    "    globals()['Daejeon_{}_{}'.format(month, year)] = []\n",
    "    globals()['Jeonju_{}_{}'.format(month, year)] = []\n",
    "    try:\n",
    "        while True:\n",
    "            fname = \"C:\\\\Users\\\\YSM\\\\Downloads\\\\{}년 {}월 {}주.xls\".format(year, month, weeks)\n",
    "            excel = win32.gencache.EnsureDispatch('Excel.Application')\n",
    "            wb = excel.Workbooks.Open(fname)\n",
    "\n",
    "            wb.SaveAs(fname+\"x\", FileFormat = 51)\n",
    "            wb.Close()\n",
    "            excel.Application.Quit()\n",
    "            df = pd.read_excel('C:\\\\Users\\\\YSM\\\\Downloads\\\\{}년 {}월 {}주.xlsx'.format(year, month, weeks))\n",
    "            \n",
    "            weeks += 1\n",
    "\n",
    "            length = len(df.iloc[-1]) - 5\n",
    "            \n",
    "            # Jeju\n",
    "            Jeju_price_list = []\n",
    "            for i in range(length):\n",
    "                x = df.iloc[-1][2:-3][i].replace(',', '')\n",
    "                Jeju_price_list.append(int(x))\n",
    "            Jeju_avg = sum(Jeju_price_list) / length\n",
    "            globals()['Jeju_{}_{}'.format(month, year)].append(round(Jeju_avg, 2))  # 매주 평균값을 해당 월 리스트에 저장\n",
    "\n",
    "            # Seoul\n",
    "            Seoul_price_list = []\n",
    "            Seoul_idx = df[df['구분'] == '서울'].index\n",
    "            Busan_idx = df[df['구분'] == '부산'].index\n",
    "            Seoul_df = df.iloc[Seoul_idx.tolist()[0]:Busan_idx.tolist()[0]]\n",
    "            Seoul_price = 0\n",
    "            temp = Seoul_df[Seoul_df['Unnamed: 1'] == 'C-유통'].index.tolist()[0]\n",
    "            for i in range(length):\n",
    "                x = Seoul_df.iloc[-1][2:-3][i].replace(',', '')\n",
    "                Seoul_price_list.append(int(x))\n",
    "            Seoul_avg = sum(Seoul_price_list) / length\n",
    "            globals()['Seoul_{}_{}'.format(month, year)].append(round(Seoul_avg, 2))\n",
    "\n",
    "            # Daejeon\n",
    "            Daejeon_price_list = []\n",
    "            Daejeon_idx = df[df['구분'] == '대전'].index\n",
    "            Ulsan_idx = df[df['구분'] == '울산'].index\n",
    "            Daejeon_df = df.iloc[Daejeon_idx.tolist()[0]:Ulsan_idx.tolist()[0]]\n",
    "            Daejeon_price = 0\n",
    "            temp = Daejeon_df[Daejeon_df['Unnamed: 1'] == 'C-유통'].index.tolist()[0]\n",
    "            for i in range(length):\n",
    "                x = Daejeon_df.iloc[-1][2:-3][i].replace(',', '')\n",
    "                Daejeon_price_list.append(int(x))\n",
    "            Daejeon_avg = sum(Daejeon_price_list) / length\n",
    "            globals()['Daejeon_{}_{}'.format(month, year)].append(round(Daejeon_avg, 2))\n",
    "\n",
    "            # Jeonju\n",
    "            Jeonju_price_list = []\n",
    "            Jeonju_idx = df[df['구분'] == '전주'].index\n",
    "            Suncheon_idx = df[df['구분'] == '순천'].index\n",
    "            Jeonju_df = df.iloc[Jeonju_idx.tolist()[0]:Suncheon_idx.tolist()[0]]\n",
    "            Jeonju_price = 0\n",
    "            temp = Jeonju_df[Jeonju_df['Unnamed: 1'] == 'C-유통'].index.tolist()[0]\n",
    "            for i in range(length):\n",
    "                x = Jeonju_df.iloc[-1][2:-3][i].replace(',', '')\n",
    "                Jeonju_price_list.append(int(x))\n",
    "            Jeonju_avg = sum(Jeonju_price_list) / length\n",
    "            globals()['Jeonju_{}_{}'.format(month, year)].append(round(Jeonju_avg, 2))\n",
    "            \n",
    "    except:\n",
    "#         print(sys.exc_info())\n",
    "        print(\"Month Over!\")\n",
    "        month += 1\n",
    "        weeks = 1"
   ]
  },
  {
   "cell_type": "code",
   "execution_count": 105,
   "metadata": {},
   "outputs": [],
   "source": [
    "Jeju_result = []\n",
    "Seoul_result = []\n",
    "Daejeon_result = []\n",
    "Jeonju_result = []"
   ]
  },
  {
   "cell_type": "code",
   "execution_count": 108,
   "metadata": {},
   "outputs": [],
   "source": [
    "# ----------------------------- Jeju ---------------------------------- #\n",
    "try:\n",
    "    for i in range(4, -1, -1):\n",
    "        Jeju_result.append(Jeju_8_2020[i])\n",
    "except:\n",
    "    for i in range(4):\n",
    "        Jeju_result.append(Jeju_8_2020[i])"
   ]
  },
  {
   "cell_type": "code",
   "execution_count": 109,
   "metadata": {
    "scrolled": false
   },
   "outputs": [
    {
     "data": {
      "text/plain": [
       "[3300.0,\n",
       " 3300.0,\n",
       " 3300.0,\n",
       " 3300.0,\n",
       " 3260.0,\n",
       " 3200.0,\n",
       " 3200.0,\n",
       " 3200.0,\n",
       " 4100.0,\n",
       " 4450.0,\n",
       " 3450.0,\n",
       " 3200.0,\n",
       " 3200.0]"
      ]
     },
     "execution_count": 109,
     "metadata": {},
     "output_type": "execute_result"
    }
   ],
   "source": [
    "Jeju_result"
   ]
  },
  {
   "cell_type": "code",
   "execution_count": 112,
   "metadata": {},
   "outputs": [],
   "source": [
    "# ----------------------------- Seoul ---------------------------------- #\n",
    "month_price = 0\n",
    "try:\n",
    "    for i in range(4, -1, -1):\n",
    "        Seoul_result.append(Seoul_8_2020[i])\n",
    "except:\n",
    "    for i in range(4):\n",
    "        Seoul_result.append(Seoul_8_2020[i])"
   ]
  },
  {
   "cell_type": "code",
   "execution_count": 113,
   "metadata": {},
   "outputs": [
    {
     "data": {
      "text/plain": [
       "[2400.0,\n",
       " 2400.0,\n",
       " 2400.0,\n",
       " 2400.0,\n",
       " 2400.0,\n",
       " 2400.0,\n",
       " 2400.0,\n",
       " 2400.0,\n",
       " 3542.0,\n",
       " 4040.0,\n",
       " 3454.0,\n",
       " 2684.0,\n",
       " 2400.0]"
      ]
     },
     "execution_count": 113,
     "metadata": {},
     "output_type": "execute_result"
    }
   ],
   "source": [
    "Seoul_result"
   ]
  },
  {
   "cell_type": "code",
   "execution_count": 116,
   "metadata": {},
   "outputs": [],
   "source": [
    "# ----------------------------- Daejeon ---------------------------------- #\n",
    "month_price = 0\n",
    "try:\n",
    "    for i in range(4, -1, -1):\n",
    "        Daejeon_result.append(Daejeon_8_2020[i])\n",
    "except:\n",
    "    for i in range(4):\n",
    "        Daejeon_result.append(Daejeon_8_2020[i])"
   ]
  },
  {
   "cell_type": "code",
   "execution_count": 62,
   "metadata": {},
   "outputs": [
    {
     "data": {
      "text/plain": [
       "[2260.0, 2314.0, 3761.8]"
      ]
     },
     "execution_count": 62,
     "metadata": {},
     "output_type": "execute_result"
    }
   ],
   "source": [
    "Daejeon_result"
   ]
  },
  {
   "cell_type": "code",
   "execution_count": 119,
   "metadata": {},
   "outputs": [],
   "source": [
    "# ----------------------------- Jeonju ---------------------------------- #\n",
    "month_price = 0\n",
    "try:\n",
    "    for i in range(4, -1, -1):\n",
    "        Jeonju_result.append(Jeonju_8_2020[i])\n",
    "except:\n",
    "    for i in range(4):\n",
    "        Jeonju_result.append(Jeonju_8_2020[i])"
   ]
  },
  {
   "cell_type": "code",
   "execution_count": 68,
   "metadata": {},
   "outputs": [
    {
     "data": {
      "text/plain": [
       "[1953.0, 1980.0, 2280.0]"
      ]
     },
     "execution_count": 68,
     "metadata": {},
     "output_type": "execute_result"
    }
   ],
   "source": [
    "Jeonju_result"
   ]
  },
  {
   "cell_type": "code",
   "execution_count": 120,
   "metadata": {},
   "outputs": [
    {
     "data": {
      "text/html": [
       "<div>\n",
       "<style scoped>\n",
       "    .dataframe tbody tr th:only-of-type {\n",
       "        vertical-align: middle;\n",
       "    }\n",
       "\n",
       "    .dataframe tbody tr th {\n",
       "        vertical-align: top;\n",
       "    }\n",
       "\n",
       "    .dataframe thead th {\n",
       "        text-align: right;\n",
       "    }\n",
       "</style>\n",
       "<table border=\"1\" class=\"dataframe\">\n",
       "  <thead>\n",
       "    <tr style=\"text-align: right;\">\n",
       "      <th></th>\n",
       "      <th>Jeju</th>\n",
       "      <th>Seoul</th>\n",
       "      <th>Daejeon</th>\n",
       "      <th>Jeonju</th>\n",
       "    </tr>\n",
       "  </thead>\n",
       "  <tbody>\n",
       "    <tr>\n",
       "      <th>0</th>\n",
       "      <td>3300.0</td>\n",
       "      <td>2400.0</td>\n",
       "      <td>2260.0</td>\n",
       "      <td>1872.0</td>\n",
       "    </tr>\n",
       "    <tr>\n",
       "      <th>1</th>\n",
       "      <td>3300.0</td>\n",
       "      <td>2400.0</td>\n",
       "      <td>2260.0</td>\n",
       "      <td>1980.0</td>\n",
       "    </tr>\n",
       "    <tr>\n",
       "      <th>2</th>\n",
       "      <td>3300.0</td>\n",
       "      <td>2400.0</td>\n",
       "      <td>2260.0</td>\n",
       "      <td>1980.0</td>\n",
       "    </tr>\n",
       "    <tr>\n",
       "      <th>3</th>\n",
       "      <td>3300.0</td>\n",
       "      <td>2400.0</td>\n",
       "      <td>2260.0</td>\n",
       "      <td>1980.0</td>\n",
       "    </tr>\n",
       "    <tr>\n",
       "      <th>4</th>\n",
       "      <td>3260.0</td>\n",
       "      <td>2400.0</td>\n",
       "      <td>2260.0</td>\n",
       "      <td>1980.0</td>\n",
       "    </tr>\n",
       "    <tr>\n",
       "      <th>5</th>\n",
       "      <td>3200.0</td>\n",
       "      <td>2400.0</td>\n",
       "      <td>2260.0</td>\n",
       "      <td>1980.0</td>\n",
       "    </tr>\n",
       "    <tr>\n",
       "      <th>6</th>\n",
       "      <td>3200.0</td>\n",
       "      <td>2400.0</td>\n",
       "      <td>2260.0</td>\n",
       "      <td>1980.0</td>\n",
       "    </tr>\n",
       "    <tr>\n",
       "      <th>7</th>\n",
       "      <td>3200.0</td>\n",
       "      <td>2400.0</td>\n",
       "      <td>2476.0</td>\n",
       "      <td>1980.0</td>\n",
       "    </tr>\n",
       "    <tr>\n",
       "      <th>8</th>\n",
       "      <td>4100.0</td>\n",
       "      <td>3542.0</td>\n",
       "      <td>4132.0</td>\n",
       "      <td>2280.0</td>\n",
       "    </tr>\n",
       "    <tr>\n",
       "      <th>9</th>\n",
       "      <td>4450.0</td>\n",
       "      <td>4040.0</td>\n",
       "      <td>4715.0</td>\n",
       "      <td>2480.0</td>\n",
       "    </tr>\n",
       "    <tr>\n",
       "      <th>10</th>\n",
       "      <td>3450.0</td>\n",
       "      <td>3454.0</td>\n",
       "      <td>4030.0</td>\n",
       "      <td>2480.0</td>\n",
       "    </tr>\n",
       "    <tr>\n",
       "      <th>11</th>\n",
       "      <td>3200.0</td>\n",
       "      <td>2684.0</td>\n",
       "      <td>3132.0</td>\n",
       "      <td>2180.0</td>\n",
       "    </tr>\n",
       "    <tr>\n",
       "      <th>12</th>\n",
       "      <td>3200.0</td>\n",
       "      <td>2400.0</td>\n",
       "      <td>2800.0</td>\n",
       "      <td>1980.0</td>\n",
       "    </tr>\n",
       "  </tbody>\n",
       "</table>\n",
       "</div>"
      ],
      "text/plain": [
       "      Jeju   Seoul  Daejeon  Jeonju\n",
       "0   3300.0  2400.0   2260.0  1872.0\n",
       "1   3300.0  2400.0   2260.0  1980.0\n",
       "2   3300.0  2400.0   2260.0  1980.0\n",
       "3   3300.0  2400.0   2260.0  1980.0\n",
       "4   3260.0  2400.0   2260.0  1980.0\n",
       "5   3200.0  2400.0   2260.0  1980.0\n",
       "6   3200.0  2400.0   2260.0  1980.0\n",
       "7   3200.0  2400.0   2476.0  1980.0\n",
       "8   4100.0  3542.0   4132.0  2280.0\n",
       "9   4450.0  4040.0   4715.0  2480.0\n",
       "10  3450.0  3454.0   4030.0  2480.0\n",
       "11  3200.0  2684.0   3132.0  2180.0\n",
       "12  3200.0  2400.0   2800.0  1980.0"
      ]
     },
     "execution_count": 120,
     "metadata": {},
     "output_type": "execute_result"
    }
   ],
   "source": [
    "df_20 = pd.DataFrame([Jeju_result, Seoul_result, Daejeon_result, Jeonju_result], index='Jeju Seoul Daejeon Jeonju'.split())\n",
    "df_2020 = df_20.fillna(df.iloc[1])\n",
    "df_2020 = df_2020.T\n",
    "df_2020"
   ]
  },
  {
   "cell_type": "code",
   "execution_count": 121,
   "metadata": {},
   "outputs": [],
   "source": [
    "%matplotlib inline\n",
    "import matplotlib.pyplot as plt\n",
    "import matplotlib.font_manager as fm\n",
    "\n",
    "month_week_list = ['6/1', '6/2', '6/3', '6/4', '7/1', '7/2', '7/3', '7/4', '8/1', '8/2', '8/3', '8/4', '8/5']\n",
    "\n",
    "plt.rcParams[\"axes.grid\"] = True\n",
    "plt.rcParams[\"figure.figsize\"] = (15,4)"
   ]
  },
  {
   "cell_type": "code",
   "execution_count": 122,
   "metadata": {},
   "outputs": [
    {
     "data": {
      "image/png": "[encoded data removed]",
      "text/plain": [
       "<Figure size 1080x288 with 1 Axes>"
      ]
     },
     "metadata": {
      "needs_background": "light"
     },
     "output_type": "display_data"
    }
   ],
   "source": [
    "line = df_2020.plot.line()\n",
    "line.set_xlabel(\"Month\")\n",
    "line.set_ylabel(\"Price\")\n",
    "plt.ylim([1000, 5000])\n",
    "line.set_title(\"2020 Price Variant\")\n",
    "line.set_xticks(df_2020.index[:])\n",
    "line.set_xticklabels(month_week_list)\n",
    "plt.plot\n",
    "plt.show()"
   ]
  },
  {
   "cell_type": "code",
   "execution_count": null,
   "metadata": {},
   "outputs": [],
   "source": []
  }
 ],
 "metadata": {
  "kernelspec": {
   "display_name": "Python 3",
   "language": "python",
   "name": "python3"
  },
  "language_info": {
   "codemirror_mode": {
    "name": "ipython",
    "version": 3
   },
   "file_extension": ".py",
   "mimetype": "text/x-python",
   "name": "python",
   "nbconvert_exporter": "python",
   "pygments_lexer": "ipython3",
   "version": "3.7.0"
  }
 },
 "nbformat": 4,
 "nbformat_minor": 4
}
