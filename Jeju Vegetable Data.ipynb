{
 "cells": [
  {
   "cell_type": "code",
   "execution_count": 2,
   "metadata": {},
   "outputs": [],
   "source": [
    "import pandas as pd"
   ]
  },
  {
   "cell_type": "code",
   "execution_count": 3,
   "metadata": {},
   "outputs": [],
   "source": [
    "# xls to xlsx\n",
    "import win32com.client as win32"
   ]
  },
  {
   "cell_type": "code",
   "execution_count": 57,
   "metadata": {
    "scrolled": true
   },
   "outputs": [
    {
     "name": "stdout",
     "output_type": "stream",
     "text": [
      "Month Over!\n",
      "Month Over!\n",
      "Month Over!\n"
     ]
    }
   ],
   "source": [
    "year = 2018\n",
    "month = 6\n",
    "weeks = 1\n",
    "# 2020년 1, 2, 3월까지 제주도 \"깻잎\"가격 소매가 조사\n",
    "while month > 5 and month < 9:\n",
    "    globals()['month_{}_{}'.format(month, year)] = []\n",
    "    # 1개월치 매주 가격분포 조사\n",
    "    try:\n",
    "        while True:\n",
    "            fname = \"C:\\\\Users\\\\YSM\\\\Downloads\\\\{}년 {}월 {}주.xls\".format(year, month, weeks)\n",
    "            excel = win32.gencache.EnsureDispatch('Excel.Application')\n",
    "            wb = excel.Workbooks.Open(fname)\n",
    "\n",
    "            wb.SaveAs(fname+\"x\", FileFormat = 51) #FileFormat = 51 is for .xlsx extension\n",
    "            wb.Close() #FileFormat = 56 is for .xls extension\n",
    "            excel.Application.Quit()\n",
    "            df = pd.read_excel('C:\\\\Users\\\\YSM\\\\Downloads\\\\{}년 {}월 {}주.xlsx'.format(year, month, weeks))\n",
    "            weeks += 1\n",
    "\n",
    "\n",
    "            price_list = []\n",
    "            length = len(df.iloc[-1]) - 5\n",
    "            for i in range(length):\n",
    "                x = df.iloc[-1][2:-3][i].replace(',', '')\n",
    "                price_list.append(int(x))\n",
    "            avg = sum(price_list) / length\n",
    "            globals()['month_{}_{}'.format(month, year)].append(round(avg, 2))  # 매주 평균값을 해당 월 리스트에 저장\n",
    "    except:\n",
    "        print(\"Month Over!\")\n",
    "        month += 1\n",
    "        weeks = 1"
   ]
  },
  {
   "cell_type": "code",
   "execution_count": 53,
   "metadata": {},
   "outputs": [
    {
     "name": "stdout",
     "output_type": "stream",
     "text": [
      "[2721.8, 2177.0, 2177.0, 2177.0, 2177.0] [2177.0, 2177.0, 2177.0, 2266.2] [2720.0, 3200.0, 3200.0, 3200.0]\n"
     ]
    }
   ],
   "source": [
    "print(month_6_2019, month_7_2019, month_8_2019)"
   ]
  },
  {
   "cell_type": "code",
   "execution_count": 49,
   "metadata": {},
   "outputs": [
    {
     "data": {
      "text/html": [
       "<div>\n",
       "<style scoped>\n",
       "    .dataframe tbody tr th:only-of-type {\n",
       "        vertical-align: middle;\n",
       "    }\n",
       "\n",
       "    .dataframe tbody tr th {\n",
       "        vertical-align: top;\n",
       "    }\n",
       "\n",
       "    .dataframe thead th {\n",
       "        text-align: right;\n",
       "    }\n",
       "</style>\n",
       "<table border=\"1\" class=\"dataframe\">\n",
       "  <thead>\n",
       "    <tr style=\"text-align: right;\">\n",
       "      <th></th>\n",
       "      <th>June</th>\n",
       "      <th>July</th>\n",
       "      <th>August</th>\n",
       "    </tr>\n",
       "  </thead>\n",
       "  <tbody>\n",
       "    <tr>\n",
       "      <th>Week1</th>\n",
       "      <td>3300.0</td>\n",
       "      <td>3260.0</td>\n",
       "      <td>3200.0</td>\n",
       "    </tr>\n",
       "    <tr>\n",
       "      <th>Week2</th>\n",
       "      <td>3300.0</td>\n",
       "      <td>3200.0</td>\n",
       "      <td>3200.0</td>\n",
       "    </tr>\n",
       "    <tr>\n",
       "      <th>Week3</th>\n",
       "      <td>3300.0</td>\n",
       "      <td>3200.0</td>\n",
       "      <td>3450.0</td>\n",
       "    </tr>\n",
       "    <tr>\n",
       "      <th>Week4</th>\n",
       "      <td>3300.0</td>\n",
       "      <td>3200.0</td>\n",
       "      <td>4450.0</td>\n",
       "    </tr>\n",
       "    <tr>\n",
       "      <th>Week5</th>\n",
       "      <td>NaN</td>\n",
       "      <td>NaN</td>\n",
       "      <td>4100.0</td>\n",
       "    </tr>\n",
       "  </tbody>\n",
       "</table>\n",
       "</div>"
      ],
      "text/plain": [
       "         June    July  August\n",
       "Week1  3300.0  3260.0  3200.0\n",
       "Week2  3300.0  3200.0  3200.0\n",
       "Week3  3300.0  3200.0  3450.0\n",
       "Week4  3300.0  3200.0  4450.0\n",
       "Week5     NaN     NaN  4100.0"
      ]
     },
     "execution_count": 49,
     "metadata": {},
     "output_type": "execute_result"
    }
   ],
   "source": [
    "df_20 = pd.DataFrame([month_6_2020, month_7_2020, month_8_2020], index='June July August'.split(), columns='Week1 Week2 Week3 Week4 Week5'.split())\n",
    "df_2020 = df_20.fillna(df.iloc[1])\n",
    "df_2020 = df_2020.T\n",
    "df_2020"
   ]
  },
  {
   "cell_type": "code",
   "execution_count": 54,
   "metadata": {},
   "outputs": [
    {
     "data": {
      "text/html": [
       "<div>\n",
       "<style scoped>\n",
       "    .dataframe tbody tr th:only-of-type {\n",
       "        vertical-align: middle;\n",
       "    }\n",
       "\n",
       "    .dataframe tbody tr th {\n",
       "        vertical-align: top;\n",
       "    }\n",
       "\n",
       "    .dataframe thead th {\n",
       "        text-align: right;\n",
       "    }\n",
       "</style>\n",
       "<table border=\"1\" class=\"dataframe\">\n",
       "  <thead>\n",
       "    <tr style=\"text-align: right;\">\n",
       "      <th></th>\n",
       "      <th>June</th>\n",
       "      <th>July</th>\n",
       "      <th>August</th>\n",
       "    </tr>\n",
       "  </thead>\n",
       "  <tbody>\n",
       "    <tr>\n",
       "      <th>Week1</th>\n",
       "      <td>2721.8</td>\n",
       "      <td>2177.0</td>\n",
       "      <td>2720.0</td>\n",
       "    </tr>\n",
       "    <tr>\n",
       "      <th>Week2</th>\n",
       "      <td>2177.0</td>\n",
       "      <td>2177.0</td>\n",
       "      <td>3200.0</td>\n",
       "    </tr>\n",
       "    <tr>\n",
       "      <th>Week3</th>\n",
       "      <td>2177.0</td>\n",
       "      <td>2177.0</td>\n",
       "      <td>3200.0</td>\n",
       "    </tr>\n",
       "    <tr>\n",
       "      <th>Week4</th>\n",
       "      <td>2177.0</td>\n",
       "      <td>2266.2</td>\n",
       "      <td>3200.0</td>\n",
       "    </tr>\n",
       "    <tr>\n",
       "      <th>Week5</th>\n",
       "      <td>2177.0</td>\n",
       "      <td>NaN</td>\n",
       "      <td>NaN</td>\n",
       "    </tr>\n",
       "  </tbody>\n",
       "</table>\n",
       "</div>"
      ],
      "text/plain": [
       "         June    July  August\n",
       "Week1  2721.8  2177.0  2720.0\n",
       "Week2  2177.0  2177.0  3200.0\n",
       "Week3  2177.0  2177.0  3200.0\n",
       "Week4  2177.0  2266.2  3200.0\n",
       "Week5  2177.0     NaN     NaN"
      ]
     },
     "execution_count": 54,
     "metadata": {},
     "output_type": "execute_result"
    }
   ],
   "source": [
    "df_19 = pd.DataFrame([month_6_2019, month_7_2019, month_8_2019], index='June July August'.split(), columns='Week1 Week2 Week3 Week4 Week5'.split())\n",
    "df_2019 = df_19.fillna(df.iloc[1])\n",
    "df_2019 = df_2019.T\n",
    "df_2019"
   ]
  },
  {
   "cell_type": "code",
   "execution_count": 58,
   "metadata": {},
   "outputs": [
    {
     "data": {
      "text/html": [
       "<div>\n",
       "<style scoped>\n",
       "    .dataframe tbody tr th:only-of-type {\n",
       "        vertical-align: middle;\n",
       "    }\n",
       "\n",
       "    .dataframe tbody tr th {\n",
       "        vertical-align: top;\n",
       "    }\n",
       "\n",
       "    .dataframe thead th {\n",
       "        text-align: right;\n",
       "    }\n",
       "</style>\n",
       "<table border=\"1\" class=\"dataframe\">\n",
       "  <thead>\n",
       "    <tr style=\"text-align: right;\">\n",
       "      <th></th>\n",
       "      <th>June</th>\n",
       "      <th>July</th>\n",
       "      <th>August</th>\n",
       "    </tr>\n",
       "  </thead>\n",
       "  <tbody>\n",
       "    <tr>\n",
       "      <th>Week1</th>\n",
       "      <td>2256.0</td>\n",
       "      <td>2720.0</td>\n",
       "      <td>1980.0</td>\n",
       "    </tr>\n",
       "    <tr>\n",
       "      <th>Week2</th>\n",
       "      <td>2480.0</td>\n",
       "      <td>2720.0</td>\n",
       "      <td>1980.0</td>\n",
       "    </tr>\n",
       "    <tr>\n",
       "      <th>Week3</th>\n",
       "      <td>2600.0</td>\n",
       "      <td>1980.0</td>\n",
       "      <td>1980.0</td>\n",
       "    </tr>\n",
       "    <tr>\n",
       "      <th>Week4</th>\n",
       "      <td>2720.0</td>\n",
       "      <td>1980.0</td>\n",
       "      <td>1980.0</td>\n",
       "    </tr>\n",
       "    <tr>\n",
       "      <th>Week5</th>\n",
       "      <td>NaN</td>\n",
       "      <td>1980.0</td>\n",
       "      <td>NaN</td>\n",
       "    </tr>\n",
       "  </tbody>\n",
       "</table>\n",
       "</div>"
      ],
      "text/plain": [
       "         June    July  August\n",
       "Week1  2256.0  2720.0  1980.0\n",
       "Week2  2480.0  2720.0  1980.0\n",
       "Week3  2600.0  1980.0  1980.0\n",
       "Week4  2720.0  1980.0  1980.0\n",
       "Week5     NaN  1980.0     NaN"
      ]
     },
     "execution_count": 58,
     "metadata": {},
     "output_type": "execute_result"
    }
   ],
   "source": [
    "df_18 = pd.DataFrame([month_6_2018, month_7_2018, month_8_2018], index='June July August'.split(), columns='Week1 Week2 Week3 Week4 Week5'.split())\n",
    "df_2018 = df_18.fillna(df.iloc[1])\n",
    "df_2018 = df_2018.T\n",
    "df_2018"
   ]
  },
  {
   "cell_type": "code",
   "execution_count": 59,
   "metadata": {},
   "outputs": [],
   "source": [
    "%matplotlib inline\n",
    "import matplotlib.pyplot as plt\n",
    "import matplotlib.font_manager as fm\n",
    "\n",
    "plt.rcParams[\"axes.grid\"] = True\n",
    "plt.rcParams[\"figure.figsize\"] = (14,4)"
   ]
  },
  {
   "cell_type": "code",
   "execution_count": 60,
   "metadata": {},
   "outputs": [
    {
     "data": {
      "image/png": "[encoded data removed]",
      "text/plain": [
       "<Figure size 1008x288 with 1 Axes>"
      ]
     },
     "metadata": {
      "needs_background": "light"
     },
     "output_type": "display_data"
    }
   ],
   "source": [
    "line = df_2018.plot.line()\n",
    "line.set_xlabel(\"Week\")\n",
    "line.set_ylabel(\"Price\")\n",
    "line.set_title(\"Price Variant\")\n",
    "plt.show()"
   ]
  },
  {
   "cell_type": "code",
   "execution_count": null,
   "metadata": {},
   "outputs": [],
   "source": []
  }
 ],
 "metadata": {
  "kernelspec": {
   "display_name": "Python 3",
   "language": "python",
   "name": "python3"
  },
  "language_info": {
   "codemirror_mode": {
    "name": "ipython",
    "version": 3
   },
   "file_extension": ".py",
   "mimetype": "text/x-python",
   "name": "python",
   "nbconvert_exporter": "python",
   "pygments_lexer": "ipython3",
   "version": "3.7.0"
  }
 },
 "nbformat": 4,
 "nbformat_minor": 4
}
