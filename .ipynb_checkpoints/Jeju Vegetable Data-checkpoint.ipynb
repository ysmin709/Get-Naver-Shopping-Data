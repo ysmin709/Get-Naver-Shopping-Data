{
 "cells": [
  {
   "cell_type": "code",
   "execution_count": 2,
   "metadata": {},
   "outputs": [],
   "source": [
    "import pandas as pd"
   ]
  },
  {
   "cell_type": "code",
   "execution_count": 3,
   "metadata": {},
   "outputs": [],
   "source": [
    "# xls to xlsx\n",
    "import win32com.client as win32"
   ]
  },
  {
   "cell_type": "code",
   "execution_count": 25,
   "metadata": {
    "scrolled": true
   },
   "outputs": [
    {
     "name": "stdout",
     "output_type": "stream",
     "text": [
      "Month Over!\n",
      "Month Over!\n",
      "Month Over!\n"
     ]
    }
   ],
   "source": [
    "month = 6\n",
    "weeks = 1\n",
    "# 2020년 1, 2, 3월까지 제주도 \"깻잎\"가격 소매가 조사\n",
    "while month > 5 and month < 9:\n",
    "    globals()['month_{}'.format(month)] = []\n",
    "    # 1개월치 매주 가격분포 조사\n",
    "    try:\n",
    "        while True:\n",
    "            fname = \"C:\\\\Users\\\\YSM\\\\Downloads\\\\{}월 {}주.xls\".format(month, weeks)\n",
    "            excel = win32.gencache.EnsureDispatch('Excel.Application')\n",
    "            wb = excel.Workbooks.Open(fname)\n",
    "\n",
    "            wb.SaveAs(fname+\"x\", FileFormat = 51) #FileFormat = 51 is for .xlsx extension\n",
    "            wb.Close() #FileFormat = 56 is for .xls extension\n",
    "            excel.Application.Quit()\n",
    "            print(month, weeks)\n",
    "            df = pd.read_excel('\"C:\\\\Users\\\\YSM\\\\Downloads\\\\{}월 {}주.xlsx'.format(month, weeks))\n",
    "            weeks += 1\n",
    "            \n",
    "\n",
    "            price_list = []\n",
    "            length = len(df.iloc[-1]) - 5\n",
    "            for i in range(length):\n",
    "                x = df.iloc[-1][2:-3][i].replace(',', '')\n",
    "                price_list.append(int(x))\n",
    "            avg = sum(price_list) / length\n",
    "            globals()['month_{}'.format(month)].append(round(avg, 2))  # 매주 평균값을 해당 월 리스트에 저장\n",
    "    except:\n",
    "        print(\"Month Over!\")\n",
    "        month += 1\n",
    "        weeks = 1"
   ]
  },
  {
   "cell_type": "code",
   "execution_count": 20,
   "metadata": {},
   "outputs": [
    {
     "name": "stdout",
     "output_type": "stream",
     "text": [
      "[] [] []\n"
     ]
    }
   ],
   "source": [
    "print(month_6, month_7, month_8)"
   ]
  },
  {
   "cell_type": "code",
   "execution_count": null,
   "metadata": {},
   "outputs": [],
   "source": [
    "df = pd.DataFrame([month_1, month_2, month_3], index='Jan Feb March'.split(), columns='first second third fourth fifth'.split())\n",
    "df1 = df.fillna(df.iloc[1][3])\n",
    "df1 = df1.T\n",
    "df1"
   ]
  },
  {
   "cell_type": "code",
   "execution_count": null,
   "metadata": {},
   "outputs": [],
   "source": [
    "%matplotlib inline\n",
    "import matplotlib.pyplot as plt\n",
    "import matplotlib.font_manager as fm\n",
    "\n",
    "plt.rcParams[\"axes.grid\"] = True\n",
    "plt.rcParams[\"figure.figsize\"] = (14,4)"
   ]
  },
  {
   "cell_type": "code",
   "execution_count": null,
   "metadata": {},
   "outputs": [],
   "source": [
    "font_path = 'C:\\\\Users\\\\jobgs\\Desktop\\\\CONCAT_INTERNSHIP\\\\CONCAT-DataAnalysis_Project\\\\Data-Jeju\\\\NanumFontSetup_TTF_GOTHIC\\NanumGothic.ttf'\n"
   ]
  },
  {
   "cell_type": "code",
   "execution_count": null,
   "metadata": {},
   "outputs": [],
   "source": [
    "line = df1.plot.line()\n",
    "line.set_xlabel(\"Week\")\n",
    "line.set_ylabel(\"Price\")\n",
    "line.set_title(\"Price Variant\")\n",
    "plt.show()"
   ]
  },
  {
   "cell_type": "code",
   "execution_count": null,
   "metadata": {},
   "outputs": [],
   "source": []
  }
 ],
 "metadata": {
  "kernelspec": {
   "display_name": "Python 3",
   "language": "python",
   "name": "python3"
  },
  "language_info": {
   "codemirror_mode": {
    "name": "ipython",
    "version": 3
   },
   "file_extension": ".py",
   "mimetype": "text/x-python",
   "name": "python",
   "nbconvert_exporter": "python",
   "pygments_lexer": "ipython3",
   "version": "3.7.0"
  }
 },
 "nbformat": 4,
 "nbformat_minor": 4
}
